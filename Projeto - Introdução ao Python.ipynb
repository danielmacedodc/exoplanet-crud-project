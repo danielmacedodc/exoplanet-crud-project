{
 "cells": [
  {
   "cell_type": "markdown",
   "id": "c0529c46",
   "metadata": {},
   "source": [
    "# Projeto de Catálogo de Exoplanetas "
   ]
  },
  {
   "cell_type": "markdown",
   "id": "bac8548d",
   "metadata": {},
   "source": [
    "#### O projeto a seguir se destina a criar um sistema de CRUD de exoplanetas utilizando 6 características identificadoras, tais como:\n",
    "----\n",
    "1. Nome do Exoplaneta\n",
    "2. Distância da Terra (anos-luz)\n",
    "3. Massa do Planeta\n",
    "4. Magnitude Estelar\n",
    "5. Tipo do Planeta\n",
    "6. Data de Descobrimento\n",
    "----"
   ]
  },
  {
   "cell_type": "markdown",
   "id": "ac21f91f",
   "metadata": {},
   "source": [
    "#### Import de Bibliotecas e Módulos"
   ]
  },
  {
   "cell_type": "code",
   "execution_count": 204,
   "id": "65e78115",
   "metadata": {},
   "outputs": [],
   "source": [
    "import os.path\n",
    "import ast\n",
    "import matplotlib.pyplot as plt"
   ]
  },
  {
   "cell_type": "markdown",
   "id": "451b0c11",
   "metadata": {},
   "source": [
    "#### Função Checklist\n",
    "\n",
    "Essa função destina-se a identificar se um determinado termo já se encontra no arquivo"
   ]
  },
  {
   "cell_type": "code",
   "execution_count": 11,
   "id": "9db10ad5",
   "metadata": {},
   "outputs": [],
   "source": [
    "def checkList(nameFile, name):\n",
    "    proceed = True\n",
    "    dicList = getPlanets(nameFile)\n",
    "    #recolhe a chave contendo o nome do planeta\n",
    "    item = [key for key in dicList if key.strip() == name]\n",
    "    for k in item:\n",
    "        #indica se o item já existe\n",
    "        proceed = False\n",
    "    \n",
    "    #caso não exista, prossiga o processo\n",
    "    return proceed\n",
    "    "
   ]
  },
  {
   "cell_type": "markdown",
   "id": "30f4b5fe",
   "metadata": {},
   "source": [
    "#### Função Registro\n",
    "\n",
    "Essa função se destina a atribuir a um dicionário o nome do planeta(chave) e os atributos(valor)."
   ]
  },
  {
   "cell_type": "code",
   "execution_count": 59,
   "id": "efc17c35",
   "metadata": {},
   "outputs": [],
   "source": [
    "def register(dic, atributes):\n",
    "    name = input('a) Insert the name of the Planet: ')\n",
    "    atributes['distance (Light-Year)'] = input('b) Set the distance from Earth in light-years: ')\n",
    "    atributes['mass'] = input('c) Enter the mass of the planet: ')\n",
    "    atributes['stellar magnitude'] = input('d) Enter the stellar magnitude: ')\n",
    "    atributes['typo'] = input('e) Set the classification of the planet: ')\n",
    "    atributes['date'] = input('f) Discovery date (year): ')\n",
    "    dic[name] = atributes "
   ]
  },
  {
   "cell_type": "markdown",
   "id": "4352ee0d",
   "metadata": {},
   "source": [
    "#### Função de Coleta de Dados\n",
    "\n",
    "Esta função se propõe a ler os dados de um arquivo .txt e atribuí-los a um dicionário e depois retorná-lo."
   ]
  },
  {
   "cell_type": "code",
   "execution_count": 13,
   "id": "5ba34642",
   "metadata": {},
   "outputs": [],
   "source": [
    "def getPlanets(nameFile):\n",
    "    divisor = []\n",
    "    dic = {}\n",
    "    fil = open(nameFile, 'r')\n",
    "    lines = fil.readlines()\n",
    "    for line in lines:\n",
    "        #remove caracteres '\\n' do arquivo\n",
    "        line.strip()\n",
    "        #Divide os dados da string numa lista\n",
    "        divisor = line.split(':',maxsplit=1)\n",
    "        #Atribui os valores da lista a um dicionário\n",
    "        key = divisor[0].strip()\n",
    "        dic[key] = divisor[1].strip()\n",
    "    fil.close()\n",
    "    \n",
    "    return dic"
   ]
  },
  {
   "cell_type": "markdown",
   "id": "f089f88a",
   "metadata": {},
   "source": [
    "#### Função Listar Todos os Elementos\n",
    "\n",
    "Esta função permite que todos os itens do arquivo sejam listados"
   ]
  },
  {
   "cell_type": "code",
   "execution_count": 78,
   "id": "d83bab7d",
   "metadata": {},
   "outputs": [],
   "source": [
    "def listAllElements(nameFile):\n",
    "    #averigua se já existe o arquivo\n",
    "    if os.path.isfile(nameFile):\n",
    "        dicList = getPlanets(nameFile)\n",
    "        for k, v in dicList.items():\n",
    "            #lê-se a chave do conjunto do dicionário\n",
    "            print(f'Name: {k}')\n",
    "            #converte a string do dicionário em dicionário\n",
    "            v = ast.literal_eval(v)\n",
    "            for key, value in v.items():\n",
    "                #impressão dos pares chave-valor\n",
    "                print(f'{key.capitalize()}: {value}', end=' | ')\n",
    "            print('\\n')\n",
    "            for i in range(110):\n",
    "                print('*', end='')\n",
    "            print('\\n')\n",
    "    else:\n",
    "        print(\"There's no directory!\\n\")\n",
    "    "
   ]
  },
  {
   "cell_type": "markdown",
   "id": "17bf075a",
   "metadata": {},
   "source": [
    "#### Função Listar por Nome\n",
    "\n",
    "Neste caso teremos uma função que lista um objeto pelo seu nome. Como cada planeta possui como característica única o seu nome, utilizou-se essa chave para busca. No entanto, caso outro atributo fosse utilizado, bastaria iterar cada dicionário nos pares e apresentar o valor."
   ]
  },
  {
   "cell_type": "code",
   "execution_count": 15,
   "id": "553016c2",
   "metadata": {},
   "outputs": [],
   "source": [
    "def findByName(nameFile):\n",
    "    if os.path.isfile(nameFile):\n",
    "        founded = False\n",
    "        dicList = getPlanets(nameFile)\n",
    "        name = input('Enter the name of the planet: ')\n",
    "        planet = [key for key in dicList if key.strip() == name]\n",
    "        for k in planet:\n",
    "            print(f'Name: {k}')\n",
    "            #módulo converte a string em dicionário\n",
    "            v = ast.literal_eval(dicList[k])\n",
    "            for key, value in v.items():\n",
    "                #impressão do par chave-valor\n",
    "                print(f'{key.capitalize()}: {value}', end=' | ')\n",
    "            print('\\n')\n",
    "            founded = True\n",
    "        if not founded:\n",
    "            print('Planet not founded!')\n",
    "    else:\n",
    "        print(\"There's no directory!\\n\")"
   ]
  },
  {
   "cell_type": "markdown",
   "id": "aa492b9f",
   "metadata": {},
   "source": [
    "#### Função Adicionar Planeta\n",
    "\n",
    "Esta função adiciona novos itens na nos dicionários e salva no arquivo."
   ]
  },
  {
   "cell_type": "code",
   "execution_count": 38,
   "id": "5e25ae9b",
   "metadata": {},
   "outputs": [],
   "source": [
    "def addNewPlanet(nameFile):\n",
    "    dic = {}\n",
    "    atributes = {}\n",
    "    register(dic, atributes)\n",
    "    #verifica se existe arquivo. Caso sim, adiciona. Do contrário cria um e adiciona.\n",
    "    if os.path.isfile(nameFile):\n",
    "        fil = open(nameFile, 'a')\n",
    "        for key, values in dic.items():\n",
    "            if checkList(nameFile, key):\n",
    "                #escreve no arquivo o par chave-valor inserido\n",
    "                fil.write(f'{key.lower()}:{values}\\n')\n",
    "                print('Planet registered.')\n",
    "            else:\n",
    "                print('Planet already exists!\\n')\n",
    "        fil.close()\n",
    "    else:\n",
    "        #caso em que não há arquivo .txt no diretório\n",
    "        fil = open(nameFile, 'w')\n",
    "        for key, values in dic.items():\n",
    "            if checkList(nameFile, key):\n",
    "                fil.write(f'{key.lower()}:{values}\\n')\n",
    "                print('Planet registered.')\n",
    "            else:\n",
    "                print('Planet already exists!\\n')\n",
    "        fil.close()"
   ]
  },
  {
   "cell_type": "markdown",
   "id": "43402161",
   "metadata": {},
   "source": [
    "#### Função Update\n",
    "\n",
    "Funciona de forma similar à criação de elemento. Faz checagem se há ou não um item para update."
   ]
  },
  {
   "cell_type": "code",
   "execution_count": 17,
   "id": "7e221fb0",
   "metadata": {},
   "outputs": [],
   "source": [
    "def updatePlanet(nameFile):\n",
    "    founded = False\n",
    "    dicList = getPlanets(nameFile)\n",
    "    name = input('Enter the name of the planet: ')\n",
    "    #adiciona a chave do item solicitado\n",
    "    remove = [key for key in dicList if key.strip() == name]\n",
    "    for k in remove:\n",
    "        print('Planet founded!\\n')\n",
    "        founded = True\n",
    "        del dicList[k]\n",
    "    if not founded:\n",
    "        print('Planet not founded!')\n",
    "    else:\n",
    "        fil = open(nameFile, 'w')\n",
    "        for key, values in dicList.items():\n",
    "            fil.write(f'{key.lower()}:{values}\\n')\n",
    "        fil.close()\n",
    "        addNewPlanet(nameFile)    "
   ]
  },
  {
   "cell_type": "markdown",
   "id": "5cbb8b26",
   "metadata": {},
   "source": [
    "#### Função Delete\n",
    "\n",
    "Esta função delete o item solicitado, caso exista, por meio da chave 'distance'. A função varre o dicionário dos valores para depois excluir o par."
   ]
  },
  {
   "cell_type": "code",
   "execution_count": 320,
   "id": "8d87e098",
   "metadata": {},
   "outputs": [],
   "source": [
    "def deletePlanet(nameFile):\n",
    "    if os.path.isfile(nameFile):\n",
    "        founded = False\n",
    "        dicList = getPlanets(nameFile)\n",
    "        distance = input('Enter the distance (ly) from Earth of the planet to be deleted: ')\n",
    "        #remove = [key for key in dicList if key.strip() == name]\n",
    "        for keys, values in dicList.items():\n",
    "            #converte os valores de string para dicionário\n",
    "            v = ast.literal_eval(dicList[keys])\n",
    "            for val in v.values():\n",
    "                if val.strip() == distance:\n",
    "                    print('Planet deleted!\\n')\n",
    "                    founded = True\n",
    "                    #salva a chave do item a ser deletado\n",
    "                    key = keys\n",
    "        if not founded:\n",
    "            print('Planet not founded!')\n",
    "        else:\n",
    "            #identifica o item e o exclui\n",
    "            del dicList[key]\n",
    "            #reescreve no arquivo os itens restantes\n",
    "            fil = open(nameFile, 'w')\n",
    "            for key, values in dicList.items():\n",
    "                fil.write(f'{key.lower()}:{values}\\n')\n",
    "            fil.close()\n",
    "    else:\n",
    "        print(\"There's no directory!\\n\")"
   ]
  },
  {
   "cell_type": "markdown",
   "id": "81bc3e42",
   "metadata": {},
   "source": [
    "#### Funções para Gerar Gráficos\n",
    "\n",
    "As seguintes funções geram gráficos de pizza, ponto e de barras para indicar características importantes sobre os exoplanetas descobertos."
   ]
  },
  {
   "cell_type": "code",
   "execution_count": 326,
   "id": "73669bc6",
   "metadata": {},
   "outputs": [],
   "source": [
    "def typeChart(nameFile):\n",
    "    numbers = []\n",
    "    typos = ['Gas Giant', 'Neptune-like', 'Super Earth', 'Terrestrial','Unidentified']\n",
    "    color = ['pink','indigo','cyan','g','gray']\n",
    "    for i in range(5):\n",
    "        numbers.append(0)\n",
    "    if os.path.isfile(nameFile):\n",
    "        dicList = getPlanets(nameFile)\n",
    "        for keys, values in dicList.items():\n",
    "            v = ast.literal_eval(dicList[keys])\n",
    "            for k, val in v.items():\n",
    "                # Identifica as chaves do tipo mostrado e conta os valores correspondentes\n",
    "                if k == 'typo':\n",
    "                    if val.strip() == 'Gas Giant':\n",
    "                        numbers[0] += 1\n",
    "                    elif val.strip() == 'Neptune-like':\n",
    "                        numbers[1] += 1\n",
    "                    elif val.strip() == 'Super Earth':\n",
    "                        numbers[2] += 1\n",
    "                    elif val.strip() == 'Terrestrial':\n",
    "                        numbers[3] += 1\n",
    "                    else:\n",
    "                        numbers[4] += 1\n",
    "        \n",
    "        # exibe gráfico pizza\n",
    "        plt.figure(figsize=(12, 6), dpi=90)\n",
    "        plt.pie(numbers,labels=typos,colors=color,startangle=90,shadow=True,explode=(0,0,0,0.1,0))\n",
    "        plt.savefig('piePlanets.png', transparent = True)\n",
    "        plt.show()\n",
    "    \n",
    "    else:\n",
    "        print(\"There's no directory!\\n\")\n",
    "    \n",
    "            "
   ]
  },
  {
   "cell_type": "code",
   "execution_count": 327,
   "id": "c9b4a868",
   "metadata": {},
   "outputs": [],
   "source": [
    "def distanceChart(nameFile):\n",
    "    dTerrestrial = []\n",
    "    dGasG = []\n",
    "    dNepLike = []\n",
    "    dSuperE = []\n",
    "    unknown = []\n",
    "    toBeAdd = 0.0\n",
    "    number = ''\n",
    "    if os.path.isfile(nameFile):\n",
    "        dicList = getPlanets(nameFile)\n",
    "        for keys, values in dicList.items():\n",
    "            v = ast.literal_eval(dicList[keys])\n",
    "            for k, val in v.items():\n",
    "                # averigua a distância em anos-luz e converte apenas os dígitos da string\n",
    "                if k == 'distance (Light-Year)':\n",
    "                    for word in val.split():\n",
    "                        if word.isdigit() or word == '.':\n",
    "                            number = number + word\n",
    "                    toBeAdd = float(number)\n",
    "                    number = ''\n",
    "                    \n",
    "                # após converter, logo em seguida verifica o tipo de planeta e associa o valor\n",
    "                if k == 'typo':\n",
    "                    if val.strip() == 'Gas Giant':\n",
    "                        dGasG.append(toBeAdd)\n",
    "                    elif val.strip() == 'Neptune-like':\n",
    "                        dNepLike.append(toBeAdd)\n",
    "                    elif val.strip() == 'Super Earth':\n",
    "                        dSuperE.append(toBeAdd)\n",
    "                    elif val.strip() == 'Terrestrial':\n",
    "                        dTerrestrial.append(toBeAdd)\n",
    "                    else:\n",
    "                        unknown.append(toBeAdd)\n",
    "        \n",
    "        # plota gráfico de pontos com os planetas e suas distâncias\n",
    "        plt.figure(figsize=(12, 6), dpi=90)\n",
    "        plt.plot(dGasG,dGasG, 'rs', label=\"Gas Giant\")\n",
    "        plt.plot(dNepLike,dNepLike, 'bo', label=\"Neptune-like\")\n",
    "        plt.plot(dSuperE,dSuperE, 'm*', label=\"Super Earth\")\n",
    "        plt.plot(dTerrestrial,dTerrestrial, 'g^', label=\"Terrestrial\")\n",
    "        plt.legend(loc=\"upper left\")\n",
    "        plt.ylabel('Distances (Light-years)')\n",
    "        plt.title('Planetarian Distances')\n",
    "        ax = plt.gca()\n",
    "        ax.minorticks_on()\n",
    "        plt.grid(color = 'green', linestyle = '-', linewidth = 1)\n",
    "        ax.grid(which='minor', linestyle=':', linewidth='0.5', color='black')\n",
    "        plt.savefig('distance.png', transparent = True)\n",
    "        plt.show()\n",
    "    else:\n",
    "        print(\"There's no directory!\\n\")"
   ]
  },
  {
   "cell_type": "code",
   "execution_count": 328,
   "id": "c463277f",
   "metadata": {},
   "outputs": [],
   "source": [
    "def stellarMag(nameFile):\n",
    "    vis = 0\n",
    "    notVis = 0\n",
    "    unknown = 0\n",
    "    if os.path.isfile(nameFile):\n",
    "        dicList = getPlanets(nameFile)\n",
    "        for keys, values in dicList.items():\n",
    "            v = ast.literal_eval(dicList[keys])\n",
    "            for k, val in v.items():\n",
    "                # em processo similar aos anteriores, averigua as magnitudes e armazena\n",
    "                if k == 'stellar magnitude':\n",
    "                    if float(val.strip()) <= 6:\n",
    "                        vis += 1\n",
    "                    elif float(val.strip()) > 6:\n",
    "                        notVis += 1\n",
    "                    else:\n",
    "                        unknown += 1\n",
    "                        \n",
    "        # plota gráfico barras\n",
    "        yAxis = [notVis,vis,unknown]\n",
    "        plt.bar([1,2,3], yAxis, color='black')\n",
    "        plt.xticks([1,2,3], ['Visible','Not Visible','Unknown'])\n",
    "        plt.ylabel('Stellar Magnitude')\n",
    "        plt.title('Stellar System Visibility')\n",
    "        plt.savefig('stellar-magnitude.png', transparent = True)\n",
    "        plt.show()\n",
    "    \n",
    "    else:\n",
    "        print(\"There's no directory!\\n\")"
   ]
  },
  {
   "cell_type": "code",
   "execution_count": 329,
   "id": "fe6d5c1e",
   "metadata": {},
   "outputs": [],
   "source": [
    "# função similar à anterior\n",
    "def discoveryDate(nameFile):\n",
    "    recent = 0\n",
    "    firstDecade = 0\n",
    "    secondDecade = 0\n",
    "    before = 0\n",
    "    unknown = 0\n",
    "    if os.path.isfile(nameFile):\n",
    "        dicList = getPlanets(nameFile)\n",
    "        for keys, values in dicList.items():\n",
    "            v = ast.literal_eval(dicList[keys])\n",
    "            for k, val in v.items():\n",
    "                if k == 'date':\n",
    "                    if 2021 <= int(val.strip()):\n",
    "                        recent += 1\n",
    "                    elif 2011 <= int(val.strip()) < 2021:\n",
    "                        secondDecade += 1\n",
    "                    elif 2001 <= int(val.strip()) < 2011:\n",
    "                        firstDecade += 1\n",
    "                    elif 1991 <= int(val.strip()) < 2001:\n",
    "                        before += 1\n",
    "                    else:\n",
    "                        unknown += 1\n",
    "        plt.figure(figsize=(12, 6), dpi=90)\n",
    "        yAxis = [recent, secondDecade, firstDecade, before, unknown]\n",
    "        plt.bar([1,2,3,4,5], yAxis)\n",
    "        plt.xticks([1,2,3,4,5], ['Today - 2021','2020 - 2011','2010 - 2001', '2000 - Before', 'Unknown'])\n",
    "        plt.ylabel('Planets Discovered')\n",
    "        plt.xlabel('Year Interval')\n",
    "        plt.title('Discovery Date')\n",
    "        plt.savefig('discovery-date.png', transparent = True)\n",
    "        plt.show()\n",
    "    \n",
    "    else:\n",
    "        print(\"There's no directory!\\n\")"
   ]
  },
  {
   "cell_type": "markdown",
   "id": "7d8f2d41",
   "metadata": {},
   "source": [
    "### Função Menu "
   ]
  },
  {
   "cell_type": "code",
   "execution_count": 324,
   "id": "be1a665b",
   "metadata": {},
   "outputs": [
    {
     "ename": "KeyboardInterrupt",
     "evalue": "Interrupted by user",
     "output_type": "error",
     "traceback": [
      "\u001b[1;31m---------------------------------------------------------------------------\u001b[0m",
      "\u001b[1;31mKeyboardInterrupt\u001b[0m                         Traceback (most recent call last)",
      "\u001b[1;32m<ipython-input-324-bf59cf3c1592>\u001b[0m in \u001b[0;36m<module>\u001b[1;34m\u001b[0m\n\u001b[1;32m----> 1\u001b[1;33m \u001b[0mfileName\u001b[0m \u001b[1;33m=\u001b[0m \u001b[0minput\u001b[0m\u001b[1;33m(\u001b[0m\u001b[1;34m'Insert the file name (.txt): '\u001b[0m\u001b[1;33m)\u001b[0m\u001b[1;33m\u001b[0m\u001b[1;33m\u001b[0m\u001b[0m\n\u001b[0m\u001b[0;32m      2\u001b[0m \u001b[0mfileName\u001b[0m \u001b[1;33m=\u001b[0m \u001b[0mfileName\u001b[0m \u001b[1;33m+\u001b[0m \u001b[1;34m'.txt'\u001b[0m\u001b[1;33m\u001b[0m\u001b[1;33m\u001b[0m\u001b[0m\n\u001b[0;32m      3\u001b[0m \u001b[0mprint\u001b[0m\u001b[1;33m(\u001b[0m\u001b[0mfileName\u001b[0m\u001b[1;33m)\u001b[0m\u001b[1;33m\u001b[0m\u001b[1;33m\u001b[0m\u001b[0m\n\u001b[0;32m      4\u001b[0m \u001b[0moption\u001b[0m \u001b[1;33m=\u001b[0m \u001b[1;36m1\u001b[0m\u001b[1;33m\u001b[0m\u001b[1;33m\u001b[0m\u001b[0m\n\u001b[0;32m      5\u001b[0m \u001b[0moptions\u001b[0m \u001b[1;33m=\u001b[0m \u001b[1;33m[\u001b[0m\u001b[1;34m'1'\u001b[0m\u001b[1;33m,\u001b[0m\u001b[1;34m'2'\u001b[0m\u001b[1;33m,\u001b[0m\u001b[1;34m'3'\u001b[0m\u001b[1;33m,\u001b[0m\u001b[1;34m'4'\u001b[0m\u001b[1;33m,\u001b[0m\u001b[1;34m'5'\u001b[0m\u001b[1;33m,\u001b[0m\u001b[1;34m'6'\u001b[0m\u001b[1;33m,\u001b[0m\u001b[1;34m'7'\u001b[0m\u001b[1;33m]\u001b[0m\u001b[1;33m\u001b[0m\u001b[1;33m\u001b[0m\u001b[0m\n",
      "\u001b[1;32m~\\anaconda3\\lib\\site-packages\\ipykernel\\kernelbase.py\u001b[0m in \u001b[0;36mraw_input\u001b[1;34m(self, prompt)\u001b[0m\n\u001b[0;32m    858\u001b[0m                 \u001b[1;34m\"raw_input was called, but this frontend does not support input requests.\"\u001b[0m\u001b[1;33m\u001b[0m\u001b[1;33m\u001b[0m\u001b[0m\n\u001b[0;32m    859\u001b[0m             )\n\u001b[1;32m--> 860\u001b[1;33m         return self._input_request(str(prompt),\n\u001b[0m\u001b[0;32m    861\u001b[0m             \u001b[0mself\u001b[0m\u001b[1;33m.\u001b[0m\u001b[0m_parent_ident\u001b[0m\u001b[1;33m,\u001b[0m\u001b[1;33m\u001b[0m\u001b[1;33m\u001b[0m\u001b[0m\n\u001b[0;32m    862\u001b[0m             \u001b[0mself\u001b[0m\u001b[1;33m.\u001b[0m\u001b[0m_parent_header\u001b[0m\u001b[1;33m,\u001b[0m\u001b[1;33m\u001b[0m\u001b[1;33m\u001b[0m\u001b[0m\n",
      "\u001b[1;32m~\\anaconda3\\lib\\site-packages\\ipykernel\\kernelbase.py\u001b[0m in \u001b[0;36m_input_request\u001b[1;34m(self, prompt, ident, parent, password)\u001b[0m\n\u001b[0;32m    902\u001b[0m             \u001b[1;32mexcept\u001b[0m \u001b[0mKeyboardInterrupt\u001b[0m\u001b[1;33m:\u001b[0m\u001b[1;33m\u001b[0m\u001b[1;33m\u001b[0m\u001b[0m\n\u001b[0;32m    903\u001b[0m                 \u001b[1;31m# re-raise KeyboardInterrupt, to truncate traceback\u001b[0m\u001b[1;33m\u001b[0m\u001b[1;33m\u001b[0m\u001b[1;33m\u001b[0m\u001b[0m\n\u001b[1;32m--> 904\u001b[1;33m                 \u001b[1;32mraise\u001b[0m \u001b[0mKeyboardInterrupt\u001b[0m\u001b[1;33m(\u001b[0m\u001b[1;34m\"Interrupted by user\"\u001b[0m\u001b[1;33m)\u001b[0m \u001b[1;32mfrom\u001b[0m \u001b[1;32mNone\u001b[0m\u001b[1;33m\u001b[0m\u001b[1;33m\u001b[0m\u001b[0m\n\u001b[0m\u001b[0;32m    905\u001b[0m             \u001b[1;32mexcept\u001b[0m \u001b[0mException\u001b[0m \u001b[1;32mas\u001b[0m \u001b[0me\u001b[0m\u001b[1;33m:\u001b[0m\u001b[1;33m\u001b[0m\u001b[1;33m\u001b[0m\u001b[0m\n\u001b[0;32m    906\u001b[0m                 \u001b[0mself\u001b[0m\u001b[1;33m.\u001b[0m\u001b[0mlog\u001b[0m\u001b[1;33m.\u001b[0m\u001b[0mwarning\u001b[0m\u001b[1;33m(\u001b[0m\u001b[1;34m\"Invalid Message:\"\u001b[0m\u001b[1;33m,\u001b[0m \u001b[0mexc_info\u001b[0m\u001b[1;33m=\u001b[0m\u001b[1;32mTrue\u001b[0m\u001b[1;33m)\u001b[0m\u001b[1;33m\u001b[0m\u001b[1;33m\u001b[0m\u001b[0m\n",
      "\u001b[1;31mKeyboardInterrupt\u001b[0m: Interrupted by user"
     ]
    }
   ],
   "source": [
    "fileName = input('Insert the file name (.txt): ')\n",
    "fileName = fileName + '.txt'\n",
    "print(fileName)\n",
    "option = 1\n",
    "options = ['1','2','3','4','5','6','7']\n",
    "\n",
    "while option != '7':\n",
    "    print('----------------------------------')\n",
    "    print('               MENU')\n",
    "    print('----------------------------------\\n')\n",
    "    print('1 -- List All Planets')\n",
    "    print('2 -- Search Planet By Name')\n",
    "    print('3 -- Add New Planet')\n",
    "    print('4 -- Update Planet')\n",
    "    print('5 -- Delete Planet')\n",
    "    print('6 -- Generate Stats Charts')\n",
    "    print('7 -- Exit')\n",
    "    print('----------------------------------')\n",
    "    option = input('Insert your option: ')\n",
    "    print('----------------------------------')\n",
    "    \n",
    "    if option not in options:\n",
    "        print('Invalid option. Try again.\\n')\n",
    "    elif int(option) == 1:\n",
    "        listAllElements(fileName)\n",
    "    elif int(option) == 2:\n",
    "        findByName(fileName)\n",
    "    elif int(option) == 3:\n",
    "        addNewPlanet(fileName)\n",
    "    elif int(option) == 4:\n",
    "        updatePlanet(fileName)\n",
    "    elif int(option) == 5:\n",
    "        deletePlanet(fileName)\n",
    "    elif int(option) == 6:\n",
    "        typeChart(fileName)\n",
    "        distanceChart(fileName)\n",
    "        stellarMag(fileName)\n",
    "        discoveryDate(fileName)\n",
    "        "
   ]
  }
 ],
 "metadata": {
  "kernelspec": {
   "display_name": "Python 3",
   "language": "python",
   "name": "python3"
  },
  "language_info": {
   "codemirror_mode": {
    "name": "ipython",
    "version": 3
   },
   "file_extension": ".py",
   "mimetype": "text/x-python",
   "name": "python",
   "nbconvert_exporter": "python",
   "pygments_lexer": "ipython3",
   "version": "3.8.8"
  }
 },
 "nbformat": 4,
 "nbformat_minor": 5
}
